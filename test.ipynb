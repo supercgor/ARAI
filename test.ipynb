{
 "cells": [
  {
   "cell_type": "code",
   "execution_count": 1,
   "metadata": {},
   "outputs": [
    {
     "data": {
      "text/plain": [
       "'Tue Mar  7 13:35:54 2023'"
      ]
     },
     "execution_count": 1,
     "metadata": {},
     "output_type": "execute_result"
    }
   ],
   "source": [
    "import time\n",
    "time.asctime( time.localtime(time.time()) )"
   ]
  },
  {
   "cell_type": "code",
   "execution_count": 2,
   "metadata": {},
   "outputs": [
    {
     "data": {
      "text/plain": [
       "torch.Size([2, 128, 128])"
      ]
     },
     "execution_count": 2,
     "metadata": {},
     "output_type": "execute_result"
    }
   ],
   "source": [
    "import torch\n",
    "from torch import nn\n",
    "a = nn.Linear(128,128)\n",
    "b = torch.empty((2,128,128))\n",
    "a(b).shape"
   ]
  },
  {
   "cell_type": "code",
   "execution_count": 3,
   "metadata": {},
   "outputs": [
    {
     "data": {
      "text/plain": [
       "array([1, 3, 5, 7, 9])"
      ]
     },
     "execution_count": 3,
     "metadata": {},
     "output_type": "execute_result"
    }
   ],
   "source": [
    "import numpy as np\n",
    "np.sort(np.random.choice([1,3,5,7,9], 5 , replace = False))"
   ]
  },
  {
   "cell_type": "code",
   "execution_count": 1,
   "metadata": {},
   "outputs": [
    {
     "data": {
      "text/plain": [
       "True"
      ]
     },
     "execution_count": 1,
     "metadata": {},
     "output_type": "execute_result"
    }
   ],
   "source": [
    "from utils.dataset import read_pic\n",
    "import numpy as np\n",
    "import cv2\n",
    "p = read_pic(\"/home/supercgor/gitfile/data/bulkice/afm/T160_1\", transform = True, rec_size= 0.02)\n",
    "p.size()\n",
    "p = p * 255\n",
    "p = p.numpy()\n",
    "p.astype(np.uint8)\n",
    "p = np.reshape(p, (5,4, 128, 128))\n",
    "out = np.concatenate(p, axis = 1)\n",
    "out = np.transpose(out, (0,2,1))\n",
    "out = np.concatenate(out, axis = 0)\n",
    "cv2.imwrite(\"test2.png\", out)"
   ]
  },
  {
   "cell_type": "code",
   "execution_count": null,
   "metadata": {},
   "outputs": [],
   "source": []
  },
  {
   "cell_type": "code",
   "execution_count": null,
   "metadata": {},
   "outputs": [],
   "source": []
  }
 ],
 "metadata": {
  "kernelspec": {
   "display_name": ".mlenv",
   "language": "python",
   "name": "python3"
  },
  "language_info": {
   "codemirror_mode": {
    "name": "ipython",
    "version": 3
   },
   "file_extension": ".py",
   "mimetype": "text/x-python",
   "name": "python",
   "nbconvert_exporter": "python",
   "pygments_lexer": "ipython3",
   "version": "3.10.9"
  },
  "orig_nbformat": 2,
  "vscode": {
   "interpreter": {
    "hash": "f72e40e65336e707af627b24e67a98bccd2a141c73974a4a6ab301f794177f9f"
   }
  }
 },
 "nbformat": 4,
 "nbformat_minor": 2
}
