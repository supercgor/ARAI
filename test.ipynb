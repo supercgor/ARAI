{
 "cells": [
  {
   "attachments": {},
   "cell_type": "markdown",
   "metadata": {},
   "source": [
    "# Save image for cyc"
   ]
  },
  {
   "cell_type": "code",
   "execution_count": 30,
   "metadata": {},
   "outputs": [],
   "source": [
    "dataset = \"../data/bulkiceHup\"\n",
    "filelist = \"train.filelist\"\n",
    "model_path = \"/home/supercgor/gitfile/ARAI/model/pretrain/cyclenet_v0/G_S2T_CP10_LOSS0.1023.pkl\""
   ]
  },
  {
   "cell_type": "code",
   "execution_count": 31,
   "metadata": {},
   "outputs": [
    {
     "name": "stdout",
     "output_type": "stream",
     "text": [
      "okay\n"
     ]
    }
   ],
   "source": [
    "from model import build_cyc_model\n",
    "from model.utils import load_model\n",
    "from datasets import AFMDataset\n",
    "\n",
    "data = AFMDataset(dataset, file_list=filelist, label = False, transform = None, img_use = None)\n",
    "cyc = build_cyc_model()\n",
    "load_model(cyc, model_path, True)\n",
    "cyc.cuda().eval().requires_grad_(False)\n",
    "\n",
    "print(\"okay\")"
   ]
  },
  {
   "cell_type": "code",
   "execution_count": 32,
   "metadata": {},
   "outputs": [],
   "source": [
    "import torch\n",
    "import os\n",
    "from torch import nn\n",
    "from torchvision.utils import save_image\n",
    "for i in range(10):\n",
    "    imgs, filename = data[i]\n",
    "    imgs.unsqueeze_(0)\n",
    "    translate = cyc(imgs.cuda()).sigmoid()\n",
    "    for j in range(imgs.shape[2]):\n",
    "        dir_path = f\"{dataset}/result/{model_path.split('/')[-2]}\"\n",
    "        os.makedirs(dir_path, exist_ok=True)\n",
    "        os.makedirs(f\"{dir_path}/{filename}\", exist_ok=True)\n",
    "        save_image(imgs[:,:,j], f\"{dir_path}/{filename}/{j}_ori.png\")\n",
    "        save_image(translate[:,:,j], f\"{dir_path}/{filename}/{j}.png\")"
   ]
  },
  {
   "cell_type": "code",
   "execution_count": null,
   "metadata": {},
   "outputs": [],
   "source": []
  }
 ],
 "metadata": {
  "kernelspec": {
   "display_name": "mlenv",
   "language": "python",
   "name": "python3"
  },
  "language_info": {
   "codemirror_mode": {
    "name": "ipython",
    "version": 3
   },
   "file_extension": ".py",
   "mimetype": "text/x-python",
   "name": "python",
   "nbconvert_exporter": "python",
   "pygments_lexer": "ipython3",
   "version": "3.10.9"
  },
  "orig_nbformat": 4
 },
 "nbformat": 4,
 "nbformat_minor": 2
}
