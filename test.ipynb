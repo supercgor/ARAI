{
 "cells": [
  {
   "attachments": {},
   "cell_type": "markdown",
   "metadata": {},
   "source": [
    "# Save image for cyc"
   ]
  },
  {
   "cell_type": "code",
   "execution_count": 30,
   "metadata": {},
   "outputs": [],
   "source": [
    "dataset = \"../data/bulkiceHup\"\n",
    "filelist = \"train.filelist\"\n",
    "model_path = \"/home/supercgor/gitfile/ARAI/model/pretrain/cyclenet_v0/G_S2T_CP10_LOSS0.1023.pkl\""
   ]
  },
  {
   "cell_type": "code",
   "execution_count": 31,
   "metadata": {},
   "outputs": [
    {
     "name": "stdout",
     "output_type": "stream",
     "text": [
      "okay\n"
     ]
    }
   ],
   "source": [
    "from model import build_cyc_model\n",
    "from model.utils import load_model\n",
    "from datasets import AFMDataset\n",
    "\n",
    "data = AFMDataset(dataset, file_list=filelist, label = False, transform = None, img_use = None)\n",
    "cyc = build_cyc_model()\n",
    "load_model(cyc, model_path, True)\n",
    "cyc.cuda().eval().requires_grad_(False)\n",
    "\n",
    "print(\"okay\")"
   ]
  },
  {
   "cell_type": "code",
   "execution_count": 2,
   "metadata": {},
   "outputs": [
    {
     "ename": "ModuleNotFoundError",
     "evalue": "No module named 'torchvision'",
     "output_type": "error",
     "traceback": [
      "\u001b[0;31m---------------------------------------------------------------------------\u001b[0m",
      "\u001b[0;31mModuleNotFoundError\u001b[0m                       Traceback (most recent call last)",
      "\u001b[1;32m/Volumes/HEIU/ARAI/test.ipynb Cell 4\u001b[0m line \u001b[0;36m4\n\u001b[1;32m      <a href='vscode-notebook-cell:/Volumes/HEIU/ARAI/test.ipynb#W3sZmlsZQ%3D%3D?line=1'>2</a>\u001b[0m \u001b[39mimport\u001b[39;00m \u001b[39mos\u001b[39;00m\n\u001b[1;32m      <a href='vscode-notebook-cell:/Volumes/HEIU/ARAI/test.ipynb#W3sZmlsZQ%3D%3D?line=2'>3</a>\u001b[0m \u001b[39mfrom\u001b[39;00m \u001b[39mtorch\u001b[39;00m \u001b[39mimport\u001b[39;00m nn\n\u001b[0;32m----> <a href='vscode-notebook-cell:/Volumes/HEIU/ARAI/test.ipynb#W3sZmlsZQ%3D%3D?line=3'>4</a>\u001b[0m \u001b[39mfrom\u001b[39;00m \u001b[39mtorchvision\u001b[39;00m\u001b[39m.\u001b[39;00m\u001b[39mutils\u001b[39;00m \u001b[39mimport\u001b[39;00m save_image\n\u001b[1;32m      <a href='vscode-notebook-cell:/Volumes/HEIU/ARAI/test.ipynb#W3sZmlsZQ%3D%3D?line=4'>5</a>\u001b[0m \u001b[39mfor\u001b[39;00m i \u001b[39min\u001b[39;00m \u001b[39mrange\u001b[39m(\u001b[39m10\u001b[39m):\n\u001b[1;32m      <a href='vscode-notebook-cell:/Volumes/HEIU/ARAI/test.ipynb#W3sZmlsZQ%3D%3D?line=5'>6</a>\u001b[0m     imgs, filename \u001b[39m=\u001b[39m data[i]\n",
      "\u001b[0;31mModuleNotFoundError\u001b[0m: No module named 'torchvision'"
     ]
    }
   ],
   "source": [
    "import torch\n",
    "import os\n",
    "from torch import nn\n",
    "from torchvision.utils import save_image\n",
    "for i in range(10):\n",
    "    imgs, filename = data[i]\n",
    "    imgs.unsqueeze_(0)\n",
    "    translate = cyc(imgs.cuda()).sigmoid()\n",
    "    for j in range(imgs.shape[2]):\n",
    "        dir_path = f\"{dataset}/result/{model_path.split('/')[-2]}\"\n",
    "        os.makedirs(dir_path, exist_ok=True)\n",
    "        os.makedirs(f\"{dir_path}/{filename}\", exist_ok=True)\n",
    "        save_image(imgs[:,:,j], f\"{dir_path}/{filename}/{j}_ori.png\")\n",
    "        save_image(translate[:,:,j], f\"{dir_path}/{filename}/{j}.png\")"
   ]
  },
  {
   "cell_type": "code",
   "execution_count": 2,
   "metadata": {},
   "outputs": [
    {
     "name": "stdout",
     "output_type": "stream",
     "text": [
      "params: 13517702\n"
     ]
    }
   ],
   "source": [
    "import torch\n",
    "from model.unet import unet_onehot\n",
    "\n",
    "net = unet_onehot(channel_mult = (1, 2 ,3, 4, 8), z_down= (1, 2, 4), num_res_blocks = 2)\n",
    "input_vector = torch.randn(2, 1, 10, 100, 100)\n",
    "print(f\"params: {sum(p.numel() for p in net.parameters())}\")\n",
    "#print(net)"
   ]
  },
  {
   "cell_type": "code",
   "execution_count": 3,
   "metadata": {},
   "outputs": [
    {
     "data": {
      "text/plain": [
       "torch.Size([2, 6, 5, 50, 50])"
      ]
     },
     "execution_count": 3,
     "metadata": {},
     "output_type": "execute_result"
    }
   ],
   "source": [
    "output = net(input_vector)"
   ]
  },
  {
   "cell_type": "code",
   "execution_count": null,
   "metadata": {},
   "outputs": [],
   "source": []
  }
 ],
 "metadata": {
  "kernelspec": {
   "display_name": "mlenv",
   "language": "python",
   "name": "python3"
  },
  "language_info": {
   "codemirror_mode": {
    "name": "ipython",
    "version": 3
   },
   "file_extension": ".py",
   "mimetype": "text/x-python",
   "name": "python",
   "nbconvert_exporter": "python",
   "pygments_lexer": "ipython3",
   "version": "3.10.13"
  },
  "orig_nbformat": 4
 },
 "nbformat": 4,
 "nbformat_minor": 2
}
