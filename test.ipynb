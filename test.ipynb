{
 "cells": [
  {
   "cell_type": "code",
   "execution_count": 1,
   "metadata": {},
   "outputs": [
    {
     "data": {
      "text/plain": [
       "'Tue Mar  7 13:35:54 2023'"
      ]
     },
     "execution_count": 1,
     "metadata": {},
     "output_type": "execute_result"
    }
   ],
   "source": [
    "import time\n",
    "time.asctime( time.localtime(time.time()) )"
   ]
  },
  {
   "cell_type": "code",
   "execution_count": 3,
   "metadata": {},
   "outputs": [
    {
     "data": {
      "text/plain": [
       "tensor(6)"
      ]
     },
     "execution_count": 3,
     "metadata": {},
     "output_type": "execute_result"
    }
   ],
   "source": [
    "import torch\n",
    "from torch import nn\n",
    "a = nn.Linear(128,128)\n",
    "b = torch.empty((2,128,128))\n",
    "a(b).shape\n",
    "a = torch.as_tensor([1,2,3])\n",
    "torch.prod(a)"
   ]
  },
  {
   "cell_type": "code",
   "execution_count": 3,
   "metadata": {},
   "outputs": [
    {
     "data": {
      "text/plain": [
       "array([1, 3, 5, 7, 9])"
      ]
     },
     "execution_count": 3,
     "metadata": {},
     "output_type": "execute_result"
    }
   ],
   "source": [
    "import numpy as np\n",
    "np.sort(np.random.choice([1,3,5,7,9], 5 , replace = False))"
   ]
  },
  {
   "cell_type": "code",
   "execution_count": 1,
   "metadata": {},
   "outputs": [
    {
     "data": {
      "text/plain": [
       "True"
      ]
     },
     "execution_count": 1,
     "metadata": {},
     "output_type": "execute_result"
    }
   ],
   "source": [
    "from utils.dataset import read_pic\n",
    "import numpy as np\n",
    "import cv2\n",
    "p = read_pic(\"/home/supercgor/gitfile/data/bulkice/afm/T160_1\", transform = True, rec_size= 0.02)\n",
    "p.size()\n",
    "p = p * 255\n",
    "p = p.numpy()\n",
    "p.astype(np.uint8)\n",
    "p = np.reshape(p, (5,4, 128, 128))\n",
    "out = np.concatenate(p, axis = 1)\n",
    "out = np.transpose(out, (0,2,1))\n",
    "out = np.concatenate(out, axis = 0)\n",
    "cv2.imwrite(\"test2.png\", out)"
   ]
  },
  {
   "cell_type": "code",
   "execution_count": 15,
   "metadata": {},
   "outputs": [
    {
     "name": "stdout",
     "output_type": "stream",
     "text": [
      "check_root: /home/supercgor/gitfile/data/model\n",
      "data_root: /home/supercgor/gitfile/data\n",
      "ovito: \n",
      "root: /home/supercgor/gitfile\n",
      "save_dir: \n",
      "batch_size: 2\n",
      "clip_grad: 10.0\n",
      "device: [0]\n",
      "epochs: 50\n",
      "learning_rate: 0.0001\n",
      "local_epoch: 999\n",
      "max_save: 3\n",
      "num_workers: 0\n",
      "pin_memory: True\n",
      "show: True\n",
      "split: [0.0, 3.0]\n",
      "channels: 32\n",
      "checkpoint: 3A_with_more_data\n",
      "input: 20\n",
      "nms: True\n",
      "output: 4\n",
      "threshold: 0.5\n",
      "dataset: bulkice\n",
      "elem_name: ('O', 'H')\n",
      "img_size: 128\n",
      "img_use: 10\n",
      "pred_filelist: pred.filelist\n",
      "real_size: [25, 25, 3]\n",
      "test_filelist: test.filelist\n",
      "train_filelist: train.filelist\n",
      "valid_filelist: valid.filelist\n",
      "decay: [0.9, 0.7, 0.5, 0.3, 0.1, 0.05]\n",
      "pos_weight: (5.0, 5.0)\n",
      "reduction: mean\n",
      "weight_confidence: 1.0\n",
      "weight_offset_xy: 0.5\n",
      "weight_offset_z: 0.5\n"
     ]
    }
   ],
   "source": [
    "from config import get_config\n",
    "a = get_config()\n",
    "print(a)\n",
    "a.merge_from_list([\"data.dataset\", \"da\"])\n",
    "for i in a:\n",
    "    print(i)"
   ]
  },
  {
   "cell_type": "code",
   "execution_count": null,
   "metadata": {},
   "outputs": [],
   "source": []
  }
 ],
 "metadata": {
  "kernelspec": {
   "display_name": ".mlenv",
   "language": "python",
   "name": "python3"
  },
  "language_info": {
   "codemirror_mode": {
    "name": "ipython",
    "version": 3
   },
   "file_extension": ".py",
   "mimetype": "text/x-python",
   "name": "python",
   "nbconvert_exporter": "python",
   "pygments_lexer": "ipython3",
   "version": "3.10.9"
  },
  "orig_nbformat": 2,
  "vscode": {
   "interpreter": {
    "hash": "f72e40e65336e707af627b24e67a98bccd2a141c73974a4a6ab301f794177f9f"
   }
  }
 },
 "nbformat": 4,
 "nbformat_minor": 2
}
