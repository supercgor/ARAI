{
 "cells": [
  {
   "cell_type": "code",
   "execution_count": null,
   "metadata": {},
   "outputs": [],
   "source": [
    "import h5py\n",
    "path = \"/Volumes/HEIU/data/bulkice_train.hdf5\"\n",
    "print(path)\n",
    "f = h5py.File(path, \"r\")\n"
   ]
  },
  {
   "cell_type": "code",
   "execution_count": null,
   "metadata": {},
   "outputs": [],
   "source": [
    "from dataset import AFMDataset\n",
    "path = \"/Volumes/HEIU/data/bulkice_train.hdf5\"\n",
    "\n",
    "dts = AFMDataset(path)\n",
    "fn, afm, label_type, label_pos = dts[0]"
   ]
  },
  {
   "cell_type": "code",
   "execution_count": null,
   "metadata": {},
   "outputs": [],
   "source": [
    "from torchvision.utils import make_grid\n",
    "import matplotlib.pyplot as plt\n",
    "plt.imshow(make_grid(afm.transpose(1,0)).permute(1,2,0))"
   ]
  },
  {
   "cell_type": "code",
   "execution_count": null,
   "metadata": {},
   "outputs": [],
   "source": [
    "f['T180_13015'].afm"
   ]
  },
  {
   "cell_type": "code",
   "execution_count": null,
   "metadata": {},
   "outputs": [],
   "source": [
    "from dataset.dataset import z_sampler\n",
    "z_sampler(10, 4, True)"
   ]
  },
  {
   "cell_type": "code",
   "execution_count": null,
   "metadata": {},
   "outputs": [],
   "source": [
    "import torch\n",
    "from torch import nn\n",
    "import torchvision\n",
    "import matplotlib.pyplot as plt\n",
    "import time\n",
    "from dataset import transform as tf\n",
    "\n",
    "pics = torch.ones(1, 8, 100, 100) * 0.9\n",
    "pics[..., 50:, 0:50] = 0.1\n",
    "pics[..., :50, 50:] = 0.1\n",
    "\n",
    "transform = nn.Sequential(\n",
    "    tf.PixelShift(),\n",
    "    tf.Cutout(),\n",
    "    tf.ColorJitter(),\n",
    "    tf.Noisy(),\n",
    "    tf.Blur(),\n",
    ")\n",
    "t = time.time()\n",
    "for i in range(1):\n",
    "    pics = transform(pics)\n",
    "\n",
    "print(time.time() - t)\n",
    "\n",
    "\n",
    "T = torchvision.utils.make_grid(pics.transpose(1,0),pad_value = 0.5)\n",
    "plt.imshow(T.permute(1,2,0))\n"
   ]
  },
  {
   "cell_type": "code",
   "execution_count": null,
   "metadata": {},
   "outputs": [],
   "source": [
    "import torch\n",
    "torch.arange(10)"
   ]
  },
  {
   "cell_type": "code",
   "execution_count": null,
   "metadata": {},
   "outputs": [],
   "source": [
    "a = torch.ones(100, 100)\n",
    "a[10:20, 10:20]"
   ]
  },
  {
   "cell_type": "code",
   "execution_count": null,
   "metadata": {},
   "outputs": [],
   "source": [
    "import torch\n",
    "a = torch.rand(100, 100, 3)\n",
    "b = torch.rand(100, 100) > 0.5\n",
    "a[b]"
   ]
  },
  {
   "cell_type": "code",
   "execution_count": null,
   "metadata": {},
   "outputs": [],
   "source": [
    "import torch\n",
    "a = torch.ones((50, 50, 5))\n",
    "c = torch.rand((50, 50, 5, 3))\n",
    "mask = a.nonzero()\n",
    "print(mask.T.shape)\n",
    "a[tuple(mask.T)]\n",
    "(c[tuple(mask.T)] + mask) / (50, 50, 5)"
   ]
  },
  {
   "cell_type": "code",
   "execution_count": null,
   "metadata": {},
   "outputs": [],
   "source": [
    "import torch\n",
    "from utils import poscar\n",
    "box_cls = torch.randint(0, 3, (3, 50, 50), dtype=torch.long)\n",
    "box_off = torch.rand((3, 50, 50, 3))\n",
    "print(poscar.boxncls2pos_torch(box_cls, box_off))\n",
    "print(poscar.boxncls2pos_np(box_cls.numpy(), box_off.numpy()))"
   ]
  },
  {
   "cell_type": "code",
   "execution_count": null,
   "metadata": {},
   "outputs": [],
   "source": [
    "import torch\n",
    "from utils.metrics import Analyser\n",
    "from utils import poscar\n",
    "from dataset import AFMDataset\n",
    "path = \"/Volumes/HEIU/data/bulkice_train.hdf5\"\n",
    "\n",
    "dts = AFMDataset(path)\n",
    "fn, afm, label_type, label_pos = dts[0]\n",
    "pred_types, pred_pos = poscar.targ2pred(label_type, label_pos)\n",
    "a = torch.jit.script(Analyser())\n",
    "pred_types = pred_types.unsqueeze(0).repeat((10, 1, 1, 1, 1))\n",
    "pred_pos  = pred_pos.unsqueeze(0).repeat((10, 1, 1, 1, 1))\n",
    "label_type = label_type.unsqueeze(0).repeat((10, 1, 1, 1))\n",
    "label_pos = label_pos.unsqueeze(0).repeat((10, 1, 1, 1, 1))"
   ]
  },
  {
   "cell_type": "code",
   "execution_count": null,
   "metadata": {},
   "outputs": [],
   "source": [
    "import time\n",
    "t = time.time()\n",
    "for i in range(1000):\n",
    "    a(pred_types, pred_pos, label_type, label_pos)\n",
    "print(time.time() - t)"
   ]
  },
  {
   "cell_type": "code",
   "execution_count": null,
   "metadata": {},
   "outputs": [],
   "source": [
    "a = torch.rand((100, 100, 3))\n",
    "mask = torch.nonzero(a, as_tuple=True)\n",
    "a[mask[0], mask[1], mask[2]]"
   ]
  },
  {
   "cell_type": "code",
   "execution_count": null,
   "metadata": {},
   "outputs": [],
   "source": [
    "import time\n",
    "import torch\n",
    "from utils.metrics import ConfusionMatrixCounter\n",
    "cm = torch.randint(0, 100, (1, 2, 1, 3)).numpy()\n",
    "t = time.time()\n",
    "ConfusionMatrixCounter._count(cm)"
   ]
  },
  {
   "cell_type": "code",
   "execution_count": null,
   "metadata": {},
   "outputs": [],
   "source": [
    "import torch\n",
    "from model import unet_onehot\n",
    "m = unet_onehot()\n",
    "img = torch.rand((1, 1, 10, 100, 100))\n",
    "m(img)"
   ]
  },
  {
   "cell_type": "code",
   "execution_count": null,
   "metadata": {},
   "outputs": [],
   "source": [
    "import torch\n",
    "import numpy as np\n",
    "from utils.metrics import Analyser\n",
    "from utils import poscar\n",
    "from dataset import AFMDataset\n",
    "path = \"/Volumes/HEIU/data/bulkice_train.hdf5\"\n",
    "\n",
    "dts = AFMDataset(path)\n",
    "fn, afm, label_type, label_pos = dts[0]\n",
    "print(fn)\n",
    "typ, final, _ = poscar.boxncls2pos_torch(label_type, label_pos)\n",
    "typ = typ.numpy()\n",
    "final = final.numpy()\n",
    "print(len(final))\n",
    "pos2 = np.concatenate([final[typ == i] for i in range(1,3)])\n",
    "poscar.save(\"test.poscar\", [3.0, 25.0, 25.0], ['O', 'H'], [48, 96], pos2)"
   ]
  },
  {
   "cell_type": "code",
   "execution_count": null,
   "metadata": {},
   "outputs": [],
   "source": [
    "import numpy as np\n",
    "a = [\"1\", \"2\", \"3\"]\n",
    "np.array(a, dtype=np.float32)"
   ]
  },
  {
   "cell_type": "code",
   "execution_count": null,
   "metadata": {},
   "outputs": [],
   "source": []
  },
  {
   "cell_type": "code",
   "execution_count": null,
   "metadata": {},
   "outputs": [],
   "source": [
    "int(\"9246.0\")"
   ]
  },
  {
   "cell_type": "code",
   "execution_count": 134,
   "metadata": {},
   "outputs": [
    {
     "name": "stdout",
     "output_type": "stream",
     "text": [
      "[[ 0.       0.       0.     ]\n",
      " [ 0.52149 -0.37154 -0.7115 ]\n",
      " [-0.73929 -0.6006   0.0947 ]]\n",
      "0.0001270771026611328\n",
      "[[ 0.          0.          0.        ]\n",
      " [ 0.49913464 -0.51435974  0.63443281]\n",
      " [ 0.21099473 -0.39316198 -0.8468207 ]]\n",
      "[[ 0.       0.       0.     ]\n",
      " [-0.73929 -0.6006   0.0947 ]\n",
      " [ 0.52149 -0.37154 -0.7115 ]]\n"
     ]
    }
   ],
   "source": [
    "import numpy as np\n",
    "from numba import jit\n",
    "\n",
    "\n",
    "\n",
    "\n",
    "# @jit(nopython=True)\n",
    "def getWaterRotate(tag: np.ndarray, inv_ref: np.ndarray) -> np.ndarray:\n",
    "    O, H1, H2 = tag\n",
    "    H1, H2 = H1 - O, H2 - O\n",
    "    H1 = H1\n",
    "    H2 = H2\n",
    "    H3 = np.cross(H1, H2)\n",
    "    if H3[2] < 0:\n",
    "        tag[0] = H2\n",
    "        tag[1] = H1\n",
    "        tag[2] = -H3\n",
    "    else:\n",
    "        tag[0] = H1\n",
    "        tag[1] = H2\n",
    "        tag[2] = H3\n",
    "    return inv_ref @ tag\n",
    "\n",
    "ang = 104.52 / 180 * np.pi\n",
    "# v = np.array([0, 0, 1]) * 0.9572\n",
    "# u = np.array([np.sin(ang), 0, np.cos(ang)]) * 0.9572\n",
    "# r = np.cross(v, u)\n",
    "# print(v, u,r)\n",
    "initpos = np.array([\n",
    "        [ 0.         , 0.         , 0.        ],\n",
    "        [ 0.         , 0.         , 0.9572    ],\n",
    "        [ 0.9266272  , 0.         ,-0.23998721],\n",
    "    ])\n",
    "\n",
    "initdir = np.array([\n",
    "        [ 0.         , 0.         , 0.9572    ],\n",
    "        [ 0.9266272  , 0.         ,-0.23998721],\n",
    "        [ 0.         , 0.88696756 , 0.        ]\n",
    "    ])\n",
    "\n",
    "\n",
    "\n",
    "pos = np.asarray([[\n",
    "        [6.20233009,  6.80328286,  0.71540000], \n",
    "        [6.72382009,  6.43174286,  0.00390000], \n",
    "        [5.46304009,  6.20268286,  0.81010000]\n",
    "        ],\n",
    "        [\n",
    "        [14.10287009, 18.97821286,  0.47590000], \n",
    "        [14.35087009, 19.79591286,  0.04450000], \n",
    "        [13.24817009, 19.16231286,  0.86570000]\n",
    "        ]])\n",
    "\n",
    "def getRotate(final: np.ndarray, init: np.ndarray) -> np.ndarray:\n",
    "    \"\"\"\n",
    "    Rotate init to final, init @ R = final\n",
    "\n",
    "    Args:\n",
    "        final (np.ndarray): N 3 3\n",
    "        init (np.ndarray): 3 3\n",
    "\n",
    "    Returns:\n",
    "        np.ndarray: N 3 3\n",
    "    \"\"\"\n",
    "    init = np.linalg.inv(init)\n",
    "    final = final - final[:, (0,), :]\n",
    "    cross = np.cross(final[:,1], final[:, 2])\n",
    "    \n",
    "    final = np.stack([final[:,1], final[:, 2], cross], axis=1)\n",
    "    R = np.einsum(\"ij, Njk -> Nik\", init, final)\n",
    "    # print(np.linalg.det(R))\n",
    "    return R\n",
    "    \n",
    "R = getRotate(pos, initdir)\n",
    "\n",
    "R1 = R[0]\n",
    "print(initpos @ R1)\n",
    "# print(np.einsum(\"Nij, kj -> Nki\", R, initpos))\n",
    "\n",
    "import time\n",
    "t = time.time()\n",
    "R2 = getWaterRotate(pos[0].copy(), np.linalg.inv(initdir))\n",
    "print(time.time() - t)\n",
    "\n",
    "print(initpos @ R2[(0,2,1),:])\n",
    "print(initpos @ R2)\n",
    "# print(pos[0] - pos[0,(0,), :])"
   ]
  },
  {
   "cell_type": "code",
   "execution_count": 131,
   "metadata": {},
   "outputs": [
    {
     "name": "stdout",
     "output_type": "stream",
     "text": [
      "[-4.88610450e-05 -3.39947613e-05  1.08801175e-05]\n",
      "[ 4.60969633e-05 -8.14802859e-06 -4.28723244e-05]\n",
      "[[-0.65672916 -0.74868485 -0.09031228]\n",
      " [-0.52145282  0.5373587  -0.66280068]\n",
      " [ 0.54480777 -0.38815295 -0.74331383]]\n",
      "[[ 0.36275293 -0.56346413 -0.74221544]\n",
      " [ 0.52145282 -0.5373587   0.66280068]\n",
      " [-0.77234643 -0.62745508  0.09893439]]\n",
      "[[ 0.36275293 -0.56346413 -0.74221544]\n",
      " [ 0.52145282 -0.5373587   0.66280068]\n",
      " [-0.77234643 -0.62745508  0.09893439]]\n"
     ]
    }
   ],
   "source": [
    "print(np.cross(R1[0], R1[1]) - R1[2])\n",
    "print(np.cross(R2[0], R2[1]) - R2[2])\n",
    "print(R1)\n",
    "print(R2)\n",
    "print(R2[(0,-2,-1),:])"
   ]
  },
  {
   "cell_type": "code",
   "execution_count": null,
   "metadata": {},
   "outputs": [],
   "source": [
    "import torch\n",
    "from model import VAEunet\n",
    "import utils\n",
    "net = VAEunet(channel_mult = (1, 2, 3, 4))\n",
    "temp = torch.rand((1, 1))\n",
    "print(\"\\n\".join(utils.model.model_structure(net)))\n",
    "image = torch.rand((1, 10, 4,25, 25))\n",
    "mu, nu, x = net(image, temp)"
   ]
  },
  {
   "cell_type": "code",
   "execution_count": null,
   "metadata": {},
   "outputs": [],
   "source": [
    "from dataset import AFMGenDataset\n",
    "dts = AFMGenDataset(\"/Volumes/HEIU/data/ice_8_4A/ice_8_4A_train.hdf5\")\n",
    "name, box4a, box8a = dts[0]"
   ]
  },
  {
   "cell_type": "code",
   "execution_count": null,
   "metadata": {},
   "outputs": [],
   "source": [
    "print(len(box4a[...,0].nonzero()))\n",
    "print(len(box8a[...,0].nonzero()))"
   ]
  },
  {
   "cell_type": "code",
   "execution_count": 62,
   "metadata": {},
   "outputs": [
    {
     "name": "stdout",
     "output_type": "stream",
     "text": [
      "tensor([1., 1., 1., 0., 0., 0., 0., 0., 0., 0.])\n"
     ]
    }
   ],
   "source": [
    "import torch\n",
    "a = torch.zeros(10)\n",
    "a[(0,1,2),] = 1\n",
    "print(a)"
   ]
  },
  {
   "cell_type": "code",
   "execution_count": null,
   "metadata": {},
   "outputs": [],
   "source": [
    "def argmatch(pred: Tensor, targ: Tensor, cutoff: float) -> tuple[Tensor]:\n",
    "    dis = torch.cdist(targ, pred)\n",
    "    dis = (dis < cutoff).nonzero()\n",
    "    dis = dis[:, (1, 0)]\n",
    "    unique, idx, counts = torch.unique(dis[...,1], sorted=True, return_inverse=True, return_counts=True)\n",
    "    ind_sorted = torch.argsort(idx, stable=True)\n",
    "    cum_sum = counts.cumsum(0)\n",
    "    cum_sum = torch.cat((torch.tensor([0]), cum_sum[:-1]))\n",
    "    first_indicies = ind_sorted[cum_sum]\n",
    "    dis = dis[first_indicies]\n",
    "    return dis\n",
    "\n",
    "import torch\n",
    "b = torch.rand(1000, 3)\n",
    "c = torch.rand(100, 3)\n",
    "t = time.time()\n",
    "for i in range(1000):\n",
    "    reg = argmatch(b, c, 0.1)\n",
    "print(time.time() - t)\n",
    "reg = argmatch(b, c, 0.1).T\n",
    "print(reg)\n",
    "print(reg[0].unique().shape, reg[0].shape)\n"
   ]
  },
  {
   "cell_type": "code",
   "execution_count": 2,
   "metadata": {},
   "outputs": [
    {
     "data": {
      "text/plain": [
       "tensor([1.])"
      ]
     },
     "execution_count": 2,
     "metadata": {},
     "output_type": "execute_result"
    }
   ],
   "source": [
    "\n",
    "import torch\n",
    "a = torch.tensor([1.0])\n",
    "b = a.to(\"mps\")"
   ]
  },
  {
   "cell_type": "code",
   "execution_count": 4,
   "metadata": {},
   "outputs": [
    {
     "data": {
      "text/plain": [
       "[1, 2, 3, 1]"
      ]
     },
     "execution_count": 4,
     "metadata": {},
     "output_type": "execute_result"
    }
   ],
   "source": [
    "a = [1, 2, 3]\n",
    "b = [1]\n",
    "a + b"
   ]
  },
  {
   "cell_type": "code",
   "execution_count": 22,
   "metadata": {},
   "outputs": [
    {
     "name": "stdout",
     "output_type": "stream",
     "text": [
      "tensor([[17.0239,  6.9825, 17.0239]])\n"
     ]
    }
   ],
   "source": [
    "import numpy as np\n",
    "a = np.zeros((10,10))\n",
    "b = []\n",
    "b.extend(a)\n",
    "\n",
    "import torch\n",
    "# 0.0, 0.5, 1.0; 1.0, 2.0, 3.0\n",
    "# 0.0, 0.5, 1.0; 0.0, 1.0, 2.0\n",
    "a = torch.linspace(0, 1, 3)[None, None, :].repeat(1, 3, 1)\n",
    "a[:, 1] += 1\n",
    "b = torch.linspace(1, 3, 3)[None, None, :].repeat(1, 3, 1)\n",
    "c.arccos_().div_(torch.pi).mul_(180)\n",
    "print(c)"
   ]
  },
  {
   "cell_type": "code",
   "execution_count": null,
   "metadata": {},
   "outputs": [],
   "source": [
    "import multiprocessing as mp\n",
    "import time\n",
    "\n",
    "def f():\n",
    "    print(\"Zzz\")\n",
    "    time.sleep(5)\n",
    "\n",
    "p = mp.Pool(6)\n",
    "\n",
    "_ = [p.apply_async(f) for i in range(12)]"
   ]
  },
  {
   "cell_type": "code",
   "execution_count": 50,
   "metadata": {},
   "outputs": [
    {
     "name": "stdout",
     "output_type": "stream",
     "text": [
      "[[1. 1. 1.]\n",
      " [0. 0. 0.]\n",
      " [0. 0. 0.]]\n",
      "[[0.53401544 0.3812444  0.08377378]\n",
      " [0.99078535 0.02127975 0.12840506]\n",
      " [0.07252139 0.3136849  0.3243425 ]]\n",
      "[[1.59732218 0.71620905 0.53652133]\n",
      " [0.         0.         0.        ]\n",
      " [0.         0.         0.        ]]\n"
     ]
    }
   ],
   "source": [
    "a = np.zeros((3,3))\n",
    "a[0] = 1\n",
    "b = np.random.rand(3,3)\n",
    "print(a)\n",
    "print(b)\n",
    "print(np.matmul(a,b))"
   ]
  },
  {
   "cell_type": "code",
   "execution_count": 4,
   "metadata": {},
   "outputs": [],
   "source": [
    "from dataset import AFMGenDataset\n",
    "from utils import functional\n",
    "import torch\n",
    "a  = AFMGenDataset(\"/Users/supercgor/Documents/data/ice_8_4A/ice_8_4A_small_train.hdf5\")\n",
    "filename ,inp, targ, emb = a[0]\n",
    "conf, pos, rot = functional.box2orgvec(targ, 0.5, 1.0, (25.0,25.0, 4.0), sort = False, nms = False)\n",
    "\n"
   ]
  },
  {
   "cell_type": "code",
   "execution_count": 4,
   "metadata": {},
   "outputs": [
    {
     "name": "stdout",
     "output_type": "stream",
     "text": [
      "torch.Size([1, 3])\n",
      "[[[ 0.          0.          0.        ]\n",
      "  [ 0.78710558  0.47448404  0.26772885]\n",
      "  [-0.84392866  0.4283606   0.01057266]]]\n",
      "[[[23.5279007  19.86129951  0.79110003]\n",
      "  [24.31500627 20.33578356  1.05882888]\n",
      "  [22.68397204 20.28966012  0.80167268]]]\n",
      "[[ 0.      0.      0.    ]\n",
      " [ 0.787   0.4744  0.2678]\n",
      " [-0.0673  0.1588 -0.9416]]\n"
     ]
    },
    {
     "data": {
      "text/plain": [
       "array([[ 0.14030995,  0.29973283, -0.94369962],\n",
       "       [-0.5515666 ,  0.81515525,  0.17689792],\n",
       "       [ 0.82218972,  0.4956122 ,  0.27977434]])"
      ]
     },
     "execution_count": 4,
     "metadata": {},
     "output_type": "execute_result"
    }
   ],
   "source": [
    "import torch\n",
    "import numpy as np\n",
    "pos = torch.tensor([[23.5279, 19.8613,  0.7911]])\n",
    "rot = torch.tensor([[[ 0.1403,  0.2997, -0.9437],\n",
    "        [-0.5516,  0.8152,  0.1769],\n",
    "        [ 0.8223,  0.4957,  0.2797]]])\n",
    "from utils.functional import getWaterRotate, makewater\n",
    "print(pos.shape)\n",
    "print(makewater(pos,rot))\n",
    "initdir = np.array([\n",
    "        [ 0.         , 0.         , 0.9572    ],\n",
    "        [ 0.9266272  , 0.         ,-0.23998721],\n",
    "        [ 0.         , 0.88696756 , 0.        ]\n",
    "        ])\n",
    "invref = np.linalg.inv(initdir)\n",
    "pos = np.array([[23.52787009, 19.86131286,  4.7911    ],\n",
    " [24.31487009, 20.33571286,  5.0589    ],\n",
    " [23.46057009, 20.02011286,  3.8495    ]])\n",
    "print(pos-pos[0])\n",
    "getWaterRotate(pos, invref)\n",
    "\n"
   ]
  },
  {
   "cell_type": "code",
   "execution_count": 6,
   "metadata": {},
   "outputs": [
    {
     "data": {
      "text/plain": [
       "True"
      ]
     },
     "execution_count": 6,
     "metadata": {},
     "output_type": "execute_result"
    }
   ],
   "source": [
    "from dataset import AFMGenDataset\n",
    "from utils import functional\n",
    "import torch\n",
    "a  = AFMGenDataset(\"/Users/supercgor/Documents/data/ice_8_4A/ice_8_4A_small_train.hdf5\")\n",
    "filename ,inp, targ, emb = a[0]\n",
    "\n",
    "targ2 = functional.box2box(targ)\n",
    "\n",
    "torch.allclose(targ, targ2, rtol = 1e-4)"
   ]
  },
  {
   "cell_type": "code",
   "execution_count": 2,
   "metadata": {},
   "outputs": [
    {
     "ename": "TypeError",
     "evalue": "ones_like() takes 1 positional argument but 2 were given",
     "output_type": "error",
     "traceback": [
      "\u001b[0;31m---------------------------------------------------------------------------\u001b[0m",
      "\u001b[0;31mTypeError\u001b[0m                                 Traceback (most recent call last)",
      "\u001b[1;32m/Users/supercgor/Documents/ARAI/test.ipynb Cell 36\u001b[0m line \u001b[0;36m1\n\u001b[0;32m----> <a href='vscode-notebook-cell:/Users/supercgor/Documents/ARAI/test.ipynb#X50sZmlsZQ%3D%3D?line=0'>1</a>\u001b[0m a \u001b[39m=\u001b[39m torch\u001b[39m.\u001b[39;49mones_like(inp, (\u001b[39m1\u001b[39;49m,\u001b[39m2\u001b[39;49m,\u001b[39m3\u001b[39;49m))\n",
      "\u001b[0;31mTypeError\u001b[0m: ones_like() takes 1 positional argument but 2 were given"
     ]
    }
   ],
   "source": [
    "a = torch.ones_like(inp, (1,2,3))"
   ]
  },
  {
   "cell_type": "code",
   "execution_count": 10,
   "metadata": {},
   "outputs": [
    {
     "name": "stdout",
     "output_type": "stream",
     "text": [
      "[1, 2, 3] [2, 3, 4]\n"
     ]
    }
   ],
   "source": [
    "a  = [1, 2, 3]\n",
    "b = list(map(lambda x: x + 1, a))\n",
    "print(a, b)\n"
   ]
  },
  {
   "cell_type": "code",
   "execution_count": 1,
   "metadata": {},
   "outputs": [
    {
     "data": {
      "text/plain": [
       "torch.Size([2, 10, 8, 25, 25])"
      ]
     },
     "execution_count": 1,
     "metadata": {},
     "output_type": "execute_result"
    }
   ],
   "source": [
    "import torch\n",
    "from model import VAELatEmb\n",
    "a = VAELatEmb()\n",
    "b = torch.randn((2, 10, 4, 25, 25))\n",
    "c = torch.randn((2, 1))\n",
    "out, mu, nu = a(b, c)\n",
    "out.shape"
   ]
  },
  {
   "cell_type": "code",
   "execution_count": null,
   "metadata": {},
   "outputs": [],
   "source": []
  }
 ],
 "metadata": {
  "kernelspec": {
   "display_name": "mlenv",
   "language": "python",
   "name": "python3"
  },
  "language_info": {
   "codemirror_mode": {
    "name": "ipython",
    "version": 3
   },
   "file_extension": ".py",
   "mimetype": "text/x-python",
   "name": "python",
   "nbconvert_exporter": "python",
   "pygments_lexer": "ipython3",
   "version": "3.10.13"
  },
  "orig_nbformat": 4
 },
 "nbformat": 4,
 "nbformat_minor": 2
}
