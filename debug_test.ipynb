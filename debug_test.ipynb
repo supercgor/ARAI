{
 "cells": [
  {
   "cell_type": "markdown",
   "metadata": {},
   "source": [
    "# Debug for the Log"
   ]
  },
  {
   "cell_type": "code",
   "execution_count": 15,
   "metadata": {},
   "outputs": [],
   "source": [
    "from config import get_config\n",
    "cfg = get_config()"
   ]
  },
  {
   "cell_type": "markdown",
   "metadata": {},
   "source": [
    "# Debug for the analyzer"
   ]
  },
  {
   "cell_type": "code",
   "execution_count": 16,
   "metadata": {},
   "outputs": [
    {
     "ename": "KeyboardInterrupt",
     "evalue": "",
     "output_type": "error",
     "traceback": [
      "\u001b[0;31m---------------------------------------------------------------------------\u001b[0m",
      "\u001b[0;31mKeyboardInterrupt\u001b[0m                         Traceback (most recent call last)",
      "Cell \u001b[0;32mIn [16], line 19\u001b[0m\n\u001b[1;32m     17\u001b[0m c \u001b[39m=\u001b[39m torch\u001b[39m.\u001b[39mstack([(torch\u001b[39m.\u001b[39mrand(O_num)\u001b[39m*\u001b[39m\u001b[39m32\u001b[39m)\u001b[39m.\u001b[39mint(),(torch\u001b[39m.\u001b[39mrand(O_num)\u001b[39m*\u001b[39m\u001b[39m32\u001b[39m)\u001b[39m.\u001b[39mint(),(torch\u001b[39m.\u001b[39mrand(O_num)\u001b[39m*\u001b[39m\u001b[39m4\u001b[39m)\u001b[39m.\u001b[39mint()],dim\u001b[39m=\u001b[39m\u001b[39m1\u001b[39m)\n\u001b[1;32m     18\u001b[0m trag[c[\u001b[39m.\u001b[39m\u001b[39m.\u001b[39m\u001b[39m.\u001b[39m,\u001b[39m0\u001b[39m]\u001b[39m.\u001b[39mtolist(),c[\u001b[39m.\u001b[39m\u001b[39m.\u001b[39m\u001b[39m.\u001b[39m,\u001b[39m1\u001b[39m]\u001b[39m.\u001b[39mtolist(),c[\u001b[39m.\u001b[39m\u001b[39m.\u001b[39m\u001b[39m.\u001b[39m,\u001b[39m2\u001b[39m]\u001b[39m.\u001b[39mtolist(),\u001b[39m4\u001b[39m:] \u001b[39m=\u001b[39m set_trag\n\u001b[0;32m---> 19\u001b[0m a(pred,trag)\n",
      "File \u001b[0;32m~/gitfile/structural_ml/.venv/lib/python3.8/site-packages/torch/nn/modules/module.py:1130\u001b[0m, in \u001b[0;36mModule._call_impl\u001b[0;34m(self, *input, **kwargs)\u001b[0m\n\u001b[1;32m   1126\u001b[0m \u001b[39m# If we don't have any hooks, we want to skip the rest of the logic in\u001b[39;00m\n\u001b[1;32m   1127\u001b[0m \u001b[39m# this function, and just call forward.\u001b[39;00m\n\u001b[1;32m   1128\u001b[0m \u001b[39mif\u001b[39;00m \u001b[39mnot\u001b[39;00m (\u001b[39mself\u001b[39m\u001b[39m.\u001b[39m_backward_hooks \u001b[39mor\u001b[39;00m \u001b[39mself\u001b[39m\u001b[39m.\u001b[39m_forward_hooks \u001b[39mor\u001b[39;00m \u001b[39mself\u001b[39m\u001b[39m.\u001b[39m_forward_pre_hooks \u001b[39mor\u001b[39;00m _global_backward_hooks\n\u001b[1;32m   1129\u001b[0m         \u001b[39mor\u001b[39;00m _global_forward_hooks \u001b[39mor\u001b[39;00m _global_forward_pre_hooks):\n\u001b[0;32m-> 1130\u001b[0m     \u001b[39mreturn\u001b[39;00m forward_call(\u001b[39m*\u001b[39;49m\u001b[39minput\u001b[39;49m, \u001b[39m*\u001b[39;49m\u001b[39m*\u001b[39;49mkwargs)\n\u001b[1;32m   1131\u001b[0m \u001b[39m# Do not call functions when jit is used\u001b[39;00m\n\u001b[1;32m   1132\u001b[0m full_backward_hooks, non_full_backward_hooks \u001b[39m=\u001b[39m [], []\n",
      "File \u001b[0;32m~/gitfile/structural_ml/afm_go/utils/analyze_data.py:92\u001b[0m, in \u001b[0;36mAnalyzer.forward\u001b[0;34m(self, predictions, targets)\u001b[0m\n\u001b[1;32m     89\u001b[0m ele_P \u001b[39m=\u001b[39m ele_P[mask_nms]\n\u001b[1;32m     91\u001b[0m \u001b[39m# Matching the nearest\u001b[39;00m\n\u001b[0;32m---> 92\u001b[0m TP_dist \u001b[39m=\u001b[39m torch\u001b[39m.\u001b[39;49mcdist(ele_T, ele_P, p\u001b[39m=\u001b[39;49m\u001b[39m2\u001b[39;49m)\n\u001b[1;32m     93\u001b[0m \u001b[39m# Figure out the indices of TP in T and P tensor\u001b[39;00m\n\u001b[1;32m     94\u001b[0m TP_T_index \u001b[39m=\u001b[39m (TP_dist \u001b[39m<\u001b[39m \u001b[39mself\u001b[39m\u001b[39m.\u001b[39mele_diameter[ele])\u001b[39m.\u001b[39msum(\n\u001b[1;32m     95\u001b[0m     \u001b[39m1\u001b[39m)\u001b[39m.\u001b[39mnonzero()\n",
      "File \u001b[0;32m~/gitfile/structural_ml/.venv/lib/python3.8/site-packages/torch/functional.py:1183\u001b[0m, in \u001b[0;36mcdist\u001b[0;34m(x1, x2, p, compute_mode)\u001b[0m\n\u001b[1;32m   1180\u001b[0m     \u001b[39mreturn\u001b[39;00m handle_torch_function(\n\u001b[1;32m   1181\u001b[0m         cdist, (x1, x2), x1, x2, p\u001b[39m=\u001b[39mp, compute_mode\u001b[39m=\u001b[39mcompute_mode)\n\u001b[1;32m   1182\u001b[0m \u001b[39mif\u001b[39;00m compute_mode \u001b[39m==\u001b[39m \u001b[39m'\u001b[39m\u001b[39muse_mm_for_euclid_dist_if_necessary\u001b[39m\u001b[39m'\u001b[39m:\n\u001b[0;32m-> 1183\u001b[0m     \u001b[39mreturn\u001b[39;00m _VF\u001b[39m.\u001b[39;49mcdist(x1, x2, p, \u001b[39mNone\u001b[39;49;00m)  \u001b[39m# type: ignore[attr-defined]\u001b[39;00m\n\u001b[1;32m   1184\u001b[0m \u001b[39melif\u001b[39;00m compute_mode \u001b[39m==\u001b[39m \u001b[39m'\u001b[39m\u001b[39muse_mm_for_euclid_dist\u001b[39m\u001b[39m'\u001b[39m:\n\u001b[1;32m   1185\u001b[0m     \u001b[39mreturn\u001b[39;00m _VF\u001b[39m.\u001b[39mcdist(x1, x2, p, \u001b[39m1\u001b[39m)  \u001b[39m# type: ignore[attr-defined]\u001b[39;00m\n",
      "\u001b[0;31mKeyboardInterrupt\u001b[0m: "
     ]
    }
   ],
   "source": [
    "import torch\n",
    "from utils.analyze_data import Analyzer\n",
    "a = Analyzer(cfg)\n",
    "\n",
    "pred = torch.randn(32,32,4,8)\n",
    "trag = torch.zeros(32,32,4,8)\n",
    "\n",
    "H_num = 100\n",
    "O_num = 200\n",
    "for _ in range(10000):\n",
    "    set_trag = torch.ones(H_num,4)\n",
    "    set_trag[...,:3] = torch.rand(H_num,3)\n",
    "    c = torch.stack([(torch.rand(H_num)*32).int(),(torch.rand(H_num)*32).int(),(torch.rand(H_num)*4).int()],dim=1)\n",
    "    trag[c[...,0].tolist(),c[...,1].tolist(),c[...,2].tolist(),:4] = set_trag\n",
    "    set_trag = torch.ones(O_num,4)\n",
    "    set_trag[...,:3] = torch.rand(O_num,3)\n",
    "    c = torch.stack([(torch.rand(O_num)*32).int(),(torch.rand(O_num)*32).int(),(torch.rand(O_num)*4).int()],dim=1)\n",
    "    trag[c[...,0].tolist(),c[...,1].tolist(),c[...,2].tolist(),4:] = set_trag\n",
    "    a(pred,trag)"
   ]
  },
  {
   "cell_type": "markdown",
   "metadata": {},
   "source": [
    "# Read npy"
   ]
  },
  {
   "cell_type": "code",
   "execution_count": 17,
   "metadata": {},
   "outputs": [],
   "source": [
    "import torch\n"
   ]
  },
  {
   "cell_type": "code",
   "execution_count": null,
   "metadata": {},
   "outputs": [],
   "source": []
  }
 ],
 "metadata": {
  "kernelspec": {
   "display_name": "Python 3.8.10 ('.venv': venv)",
   "language": "python",
   "name": "python3"
  },
  "language_info": {
   "codemirror_mode": {
    "name": "ipython",
    "version": 3
   },
   "file_extension": ".py",
   "mimetype": "text/x-python",
   "name": "python",
   "nbconvert_exporter": "python",
   "pygments_lexer": "ipython3",
   "version": "3.8.10"
  },
  "orig_nbformat": 4,
  "vscode": {
   "interpreter": {
    "hash": "fec17b5dbc32a49769893867a59ec999324f3d5726325e3dc29238cf36a1f352"
   }
  }
 },
 "nbformat": 4,
 "nbformat_minor": 2
}
